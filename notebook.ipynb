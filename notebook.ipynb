{
 "cells": [
  {
   "cell_type": "code",
   "execution_count": 187,
   "metadata": {},
   "outputs": [],
   "source": [
    "import scrapy\n",
    "import pandas as pd \n",
    "import json\n",
    "import requests\n",
    "import datetime"
   ]
  },
  {
   "cell_type": "code",
   "execution_count": 255,
   "metadata": {},
   "outputs": [],
   "source": [
    "location=[\n",
    "    2000032,\n",
    "    4000071,\n",
    "    4000072, \n",
    "    4000068, \n",
    "    4000070,  \n",
    "    4000069\n",
    "]\n",
    "\n",
    "merek=[\n",
    "    'mobil-bekas-toyota',\n",
    "    'mobil-bekas-honda',\n",
    "    'mobil-bekas-daihatsu',\n",
    "    'mobil-bekas-suzuki',\n",
    "    'mobil-bekas-nissan',\n",
    "    'mobil-bekas-mazda',\n",
    "    'mobil-bekas-datsun',\n",
    "    'mobil-bekas-chevrolet',\n",
    "    'mobil-bekas-kia',\n",
    "    'mobil-bekas-bmw',\n",
    "    'mobil-bekas-hyundai',\n",
    "    'mobil-bekas-ford',\n",
    "    'mobil-bekas-isuzu',\n",
    "    ]"
   ]
  },
  {
   "cell_type": "code",
   "execution_count": 254,
   "metadata": {},
   "outputs": [],
   "source": [
    "url='https://www.olx.co.id/api/relevance/v2/search'\n",
    "headers={\n",
    "    'user-agent':'Mozilla/5.0 (Windows NT 10.0; Win64; x64) AppleWebKit/537.36 (KHTML, like Gecko) Chrome/107.0.0.0 Safari/537.36 OPR/93.0.0.0'\n",
    "}\n",
    "payload= {\n",
    "    'category': 198,\n",
    "    'facet_limit': 100,\n",
    "    'location': 2000032,\n",
    "    'location_facet_limit': 20,\n",
    "    'page': 0,\n",
    "    'make': 'mobil-bekas-toyota',\n",
    "    'platform': 'web-desktop',\n",
    "    'size': 1000,\n",
    "    'user':'1853803f4e7x4b21bd2d',\n",
    "    'display_date':'2022-09-01'\n",
    "}\n",
    "\n",
    "\n",
    "\n",
    "\n",
    "# print(data_json)\n"
   ]
  },
  {
   "cell_type": "code",
   "execution_count": 256,
   "metadata": {},
   "outputs": [
    {
     "name": "stderr",
     "output_type": "stream",
     "text": [
      "2022-12-22 17:30:28 [urllib3.connectionpool] DEBUG: Starting new HTTPS connection (1): www.olx.co.id:443\n",
      "2022-12-22 17:30:29 [urllib3.connectionpool] DEBUG: https://www.olx.co.id:443 \"GET /api/relevance/v2/search?category=198&facet_limit=100&location=2000032&location_facet_limit=20&page=0&make=mobil-bekas-toyota&platform=web-desktop&size=1000&user=1853803f4e7x4b21bd2d&display_date=2022-09-01 HTTP/1.1\" 200 None\n",
      "2022-12-22 17:30:29 [urllib3.connectionpool] DEBUG: Starting new HTTPS connection (1): www.olx.co.id:443\n",
      "2022-12-22 17:30:30 [urllib3.connectionpool] DEBUG: https://www.olx.co.id:443 \"GET /api/relevance/v2/search?category=198&facet_limit=100&location=4000071&location_facet_limit=20&page=0&make=mobil-bekas-toyota&platform=web-desktop&size=1000&user=1853803f4e7x4b21bd2d&display_date=2022-09-01 HTTP/1.1\" 200 None\n",
      "2022-12-22 17:30:31 [urllib3.connectionpool] DEBUG: Starting new HTTPS connection (1): www.olx.co.id:443\n",
      "2022-12-22 17:30:32 [urllib3.connectionpool] DEBUG: https://www.olx.co.id:443 \"GET /api/relevance/v2/search?category=198&facet_limit=100&location=4000072&location_facet_limit=20&page=0&make=mobil-bekas-toyota&platform=web-desktop&size=1000&user=1853803f4e7x4b21bd2d&display_date=2022-09-01 HTTP/1.1\" 200 None\n",
      "2022-12-22 17:30:32 [urllib3.connectionpool] DEBUG: Starting new HTTPS connection (1): www.olx.co.id:443\n",
      "2022-12-22 17:30:33 [urllib3.connectionpool] DEBUG: https://www.olx.co.id:443 \"GET /api/relevance/v2/search?category=198&facet_limit=100&location=4000068&location_facet_limit=20&page=0&make=mobil-bekas-toyota&platform=web-desktop&size=1000&user=1853803f4e7x4b21bd2d&display_date=2022-09-01 HTTP/1.1\" 200 None\n",
      "2022-12-22 17:30:33 [urllib3.connectionpool] DEBUG: Starting new HTTPS connection (1): www.olx.co.id:443\n",
      "2022-12-22 17:30:34 [urllib3.connectionpool] DEBUG: https://www.olx.co.id:443 \"GET /api/relevance/v2/search?category=198&facet_limit=100&location=4000070&location_facet_limit=20&page=0&make=mobil-bekas-toyota&platform=web-desktop&size=1000&user=1853803f4e7x4b21bd2d&display_date=2022-09-01 HTTP/1.1\" 200 None\n",
      "2022-12-22 17:30:35 [urllib3.connectionpool] DEBUG: Starting new HTTPS connection (1): www.olx.co.id:443\n",
      "2022-12-22 17:30:37 [urllib3.connectionpool] DEBUG: https://www.olx.co.id:443 \"GET /api/relevance/v2/search?category=198&facet_limit=100&location=4000069&location_facet_limit=20&page=0&make=mobil-bekas-toyota&platform=web-desktop&size=1000&user=1853803f4e7x4b21bd2d&display_date=2022-09-01 HTTP/1.1\" 200 None\n",
      "2022-12-22 17:30:37 [urllib3.connectionpool] DEBUG: Starting new HTTPS connection (1): www.olx.co.id:443\n",
      "2022-12-22 17:30:38 [urllib3.connectionpool] DEBUG: https://www.olx.co.id:443 \"GET /api/relevance/v2/search?category=198&facet_limit=100&location=2000032&location_facet_limit=20&page=0&make=mobil-bekas-honda&platform=web-desktop&size=1000&user=1853803f4e7x4b21bd2d&display_date=2022-09-01 HTTP/1.1\" 200 None\n",
      "2022-12-22 17:30:39 [urllib3.connectionpool] DEBUG: Starting new HTTPS connection (1): www.olx.co.id:443\n",
      "2022-12-22 17:30:40 [urllib3.connectionpool] DEBUG: https://www.olx.co.id:443 \"GET /api/relevance/v2/search?category=198&facet_limit=100&location=4000071&location_facet_limit=20&page=0&make=mobil-bekas-honda&platform=web-desktop&size=1000&user=1853803f4e7x4b21bd2d&display_date=2022-09-01 HTTP/1.1\" 200 None\n",
      "2022-12-22 17:30:40 [urllib3.connectionpool] DEBUG: Starting new HTTPS connection (1): www.olx.co.id:443\n",
      "2022-12-22 17:30:41 [urllib3.connectionpool] DEBUG: https://www.olx.co.id:443 \"GET /api/relevance/v2/search?category=198&facet_limit=100&location=4000072&location_facet_limit=20&page=0&make=mobil-bekas-honda&platform=web-desktop&size=1000&user=1853803f4e7x4b21bd2d&display_date=2022-09-01 HTTP/1.1\" 200 None\n",
      "2022-12-22 17:30:41 [urllib3.connectionpool] DEBUG: Starting new HTTPS connection (1): www.olx.co.id:443\n",
      "2022-12-22 17:30:42 [urllib3.connectionpool] DEBUG: https://www.olx.co.id:443 \"GET /api/relevance/v2/search?category=198&facet_limit=100&location=4000068&location_facet_limit=20&page=0&make=mobil-bekas-honda&platform=web-desktop&size=1000&user=1853803f4e7x4b21bd2d&display_date=2022-09-01 HTTP/1.1\" 200 None\n",
      "2022-12-22 17:30:43 [urllib3.connectionpool] DEBUG: Starting new HTTPS connection (1): www.olx.co.id:443\n",
      "2022-12-22 17:30:43 [urllib3.connectionpool] DEBUG: https://www.olx.co.id:443 \"GET /api/relevance/v2/search?category=198&facet_limit=100&location=4000070&location_facet_limit=20&page=0&make=mobil-bekas-honda&platform=web-desktop&size=1000&user=1853803f4e7x4b21bd2d&display_date=2022-09-01 HTTP/1.1\" 200 None\n",
      "2022-12-22 17:30:44 [urllib3.connectionpool] DEBUG: Starting new HTTPS connection (1): www.olx.co.id:443\n",
      "2022-12-22 17:30:45 [urllib3.connectionpool] DEBUG: https://www.olx.co.id:443 \"GET /api/relevance/v2/search?category=198&facet_limit=100&location=4000069&location_facet_limit=20&page=0&make=mobil-bekas-honda&platform=web-desktop&size=1000&user=1853803f4e7x4b21bd2d&display_date=2022-09-01 HTTP/1.1\" 200 None\n",
      "2022-12-22 17:30:45 [urllib3.connectionpool] DEBUG: Starting new HTTPS connection (1): www.olx.co.id:443\n",
      "2022-12-22 17:30:46 [urllib3.connectionpool] DEBUG: https://www.olx.co.id:443 \"GET /api/relevance/v2/search?category=198&facet_limit=100&location=2000032&location_facet_limit=20&page=0&make=mobil-bekas-daihatsu&platform=web-desktop&size=1000&user=1853803f4e7x4b21bd2d&display_date=2022-09-01 HTTP/1.1\" 200 None\n",
      "2022-12-22 17:30:46 [urllib3.connectionpool] DEBUG: Starting new HTTPS connection (1): www.olx.co.id:443\n",
      "2022-12-22 17:30:47 [urllib3.connectionpool] DEBUG: https://www.olx.co.id:443 \"GET /api/relevance/v2/search?category=198&facet_limit=100&location=4000071&location_facet_limit=20&page=0&make=mobil-bekas-daihatsu&platform=web-desktop&size=1000&user=1853803f4e7x4b21bd2d&display_date=2022-09-01 HTTP/1.1\" 200 None\n",
      "2022-12-22 17:30:48 [urllib3.connectionpool] DEBUG: Starting new HTTPS connection (1): www.olx.co.id:443\n",
      "2022-12-22 17:30:49 [urllib3.connectionpool] DEBUG: https://www.olx.co.id:443 \"GET /api/relevance/v2/search?category=198&facet_limit=100&location=4000072&location_facet_limit=20&page=0&make=mobil-bekas-daihatsu&platform=web-desktop&size=1000&user=1853803f4e7x4b21bd2d&display_date=2022-09-01 HTTP/1.1\" 200 None\n",
      "2022-12-22 17:30:49 [urllib3.connectionpool] DEBUG: Starting new HTTPS connection (1): www.olx.co.id:443\n",
      "2022-12-22 17:30:50 [urllib3.connectionpool] DEBUG: https://www.olx.co.id:443 \"GET /api/relevance/v2/search?category=198&facet_limit=100&location=4000068&location_facet_limit=20&page=0&make=mobil-bekas-daihatsu&platform=web-desktop&size=1000&user=1853803f4e7x4b21bd2d&display_date=2022-09-01 HTTP/1.1\" 200 None\n",
      "2022-12-22 17:30:51 [urllib3.connectionpool] DEBUG: Starting new HTTPS connection (1): www.olx.co.id:443\n",
      "2022-12-22 17:30:51 [urllib3.connectionpool] DEBUG: https://www.olx.co.id:443 \"GET /api/relevance/v2/search?category=198&facet_limit=100&location=4000070&location_facet_limit=20&page=0&make=mobil-bekas-daihatsu&platform=web-desktop&size=1000&user=1853803f4e7x4b21bd2d&display_date=2022-09-01 HTTP/1.1\" 200 None\n",
      "2022-12-22 17:30:52 [urllib3.connectionpool] DEBUG: Starting new HTTPS connection (1): www.olx.co.id:443\n",
      "2022-12-22 17:30:53 [urllib3.connectionpool] DEBUG: https://www.olx.co.id:443 \"GET /api/relevance/v2/search?category=198&facet_limit=100&location=4000069&location_facet_limit=20&page=0&make=mobil-bekas-daihatsu&platform=web-desktop&size=1000&user=1853803f4e7x4b21bd2d&display_date=2022-09-01 HTTP/1.1\" 200 None\n",
      "2022-12-22 17:30:53 [urllib3.connectionpool] DEBUG: Starting new HTTPS connection (1): www.olx.co.id:443\n",
      "2022-12-22 17:30:54 [urllib3.connectionpool] DEBUG: https://www.olx.co.id:443 \"GET /api/relevance/v2/search?category=198&facet_limit=100&location=2000032&location_facet_limit=20&page=0&make=mobil-bekas-suzuki&platform=web-desktop&size=1000&user=1853803f4e7x4b21bd2d&display_date=2022-09-01 HTTP/1.1\" 200 None\n",
      "2022-12-22 17:30:54 [urllib3.connectionpool] DEBUG: Starting new HTTPS connection (1): www.olx.co.id:443\n",
      "2022-12-22 17:30:55 [urllib3.connectionpool] DEBUG: https://www.olx.co.id:443 \"GET /api/relevance/v2/search?category=198&facet_limit=100&location=4000071&location_facet_limit=20&page=0&make=mobil-bekas-suzuki&platform=web-desktop&size=1000&user=1853803f4e7x4b21bd2d&display_date=2022-09-01 HTTP/1.1\" 200 None\n",
      "2022-12-22 17:30:55 [urllib3.connectionpool] DEBUG: Starting new HTTPS connection (1): www.olx.co.id:443\n",
      "2022-12-22 17:30:56 [urllib3.connectionpool] DEBUG: https://www.olx.co.id:443 \"GET /api/relevance/v2/search?category=198&facet_limit=100&location=4000072&location_facet_limit=20&page=0&make=mobil-bekas-suzuki&platform=web-desktop&size=1000&user=1853803f4e7x4b21bd2d&display_date=2022-09-01 HTTP/1.1\" 200 None\n",
      "2022-12-22 17:30:56 [urllib3.connectionpool] DEBUG: Starting new HTTPS connection (1): www.olx.co.id:443\n",
      "2022-12-22 17:30:57 [urllib3.connectionpool] DEBUG: https://www.olx.co.id:443 \"GET /api/relevance/v2/search?category=198&facet_limit=100&location=4000068&location_facet_limit=20&page=0&make=mobil-bekas-suzuki&platform=web-desktop&size=1000&user=1853803f4e7x4b21bd2d&display_date=2022-09-01 HTTP/1.1\" 200 None\n",
      "2022-12-22 17:30:57 [urllib3.connectionpool] DEBUG: Starting new HTTPS connection (1): www.olx.co.id:443\n",
      "2022-12-22 17:30:58 [urllib3.connectionpool] DEBUG: https://www.olx.co.id:443 \"GET /api/relevance/v2/search?category=198&facet_limit=100&location=4000070&location_facet_limit=20&page=0&make=mobil-bekas-suzuki&platform=web-desktop&size=1000&user=1853803f4e7x4b21bd2d&display_date=2022-09-01 HTTP/1.1\" 200 None\n",
      "2022-12-22 17:30:58 [urllib3.connectionpool] DEBUG: Starting new HTTPS connection (1): www.olx.co.id:443\n",
      "2022-12-22 17:30:59 [urllib3.connectionpool] DEBUG: https://www.olx.co.id:443 \"GET /api/relevance/v2/search?category=198&facet_limit=100&location=4000069&location_facet_limit=20&page=0&make=mobil-bekas-suzuki&platform=web-desktop&size=1000&user=1853803f4e7x4b21bd2d&display_date=2022-09-01 HTTP/1.1\" 200 None\n",
      "2022-12-22 17:30:59 [urllib3.connectionpool] DEBUG: Starting new HTTPS connection (1): www.olx.co.id:443\n",
      "2022-12-22 17:31:01 [urllib3.connectionpool] DEBUG: https://www.olx.co.id:443 \"GET /api/relevance/v2/search?category=198&facet_limit=100&location=2000032&location_facet_limit=20&page=0&make=mobil-bekas-nissan&platform=web-desktop&size=1000&user=1853803f4e7x4b21bd2d&display_date=2022-09-01 HTTP/1.1\" 200 284712\n",
      "2022-12-22 17:31:01 [urllib3.connectionpool] DEBUG: Starting new HTTPS connection (1): www.olx.co.id:443\n",
      "2022-12-22 17:31:02 [urllib3.connectionpool] DEBUG: https://www.olx.co.id:443 \"GET /api/relevance/v2/search?category=198&facet_limit=100&location=4000071&location_facet_limit=20&page=0&make=mobil-bekas-nissan&platform=web-desktop&size=1000&user=1853803f4e7x4b21bd2d&display_date=2022-09-01 HTTP/1.1\" 200 None\n",
      "2022-12-22 17:31:03 [urllib3.connectionpool] DEBUG: Starting new HTTPS connection (1): www.olx.co.id:443\n",
      "2022-12-22 17:31:03 [urllib3.connectionpool] DEBUG: https://www.olx.co.id:443 \"GET /api/relevance/v2/search?category=198&facet_limit=100&location=4000072&location_facet_limit=20&page=0&make=mobil-bekas-nissan&platform=web-desktop&size=1000&user=1853803f4e7x4b21bd2d&display_date=2022-09-01 HTTP/1.1\" 200 None\n",
      "2022-12-22 17:31:04 [urllib3.connectionpool] DEBUG: Starting new HTTPS connection (1): www.olx.co.id:443\n",
      "2022-12-22 17:31:04 [urllib3.connectionpool] DEBUG: https://www.olx.co.id:443 \"GET /api/relevance/v2/search?category=198&facet_limit=100&location=4000068&location_facet_limit=20&page=0&make=mobil-bekas-nissan&platform=web-desktop&size=1000&user=1853803f4e7x4b21bd2d&display_date=2022-09-01 HTTP/1.1\" 200 None\n",
      "2022-12-22 17:31:04 [urllib3.connectionpool] DEBUG: Starting new HTTPS connection (1): www.olx.co.id:443\n",
      "2022-12-22 17:31:06 [urllib3.connectionpool] DEBUG: https://www.olx.co.id:443 \"GET /api/relevance/v2/search?category=198&facet_limit=100&location=4000070&location_facet_limit=20&page=0&make=mobil-bekas-nissan&platform=web-desktop&size=1000&user=1853803f4e7x4b21bd2d&display_date=2022-09-01 HTTP/1.1\" 200 None\n",
      "2022-12-22 17:31:06 [urllib3.connectionpool] DEBUG: Starting new HTTPS connection (1): www.olx.co.id:443\n",
      "2022-12-22 17:31:07 [urllib3.connectionpool] DEBUG: https://www.olx.co.id:443 \"GET /api/relevance/v2/search?category=198&facet_limit=100&location=4000069&location_facet_limit=20&page=0&make=mobil-bekas-nissan&platform=web-desktop&size=1000&user=1853803f4e7x4b21bd2d&display_date=2022-09-01 HTTP/1.1\" 200 None\n",
      "2022-12-22 17:31:07 [urllib3.connectionpool] DEBUG: Starting new HTTPS connection (1): www.olx.co.id:443\n",
      "2022-12-22 17:31:07 [urllib3.connectionpool] DEBUG: https://www.olx.co.id:443 \"GET /api/relevance/v2/search?category=198&facet_limit=100&location=2000032&location_facet_limit=20&page=0&make=mobil-bekas-mazda&platform=web-desktop&size=1000&user=1853803f4e7x4b21bd2d&display_date=2022-09-01 HTTP/1.1\" 200 124199\n",
      "2022-12-22 17:31:08 [urllib3.connectionpool] DEBUG: Starting new HTTPS connection (1): www.olx.co.id:443\n",
      "2022-12-22 17:31:08 [urllib3.connectionpool] DEBUG: https://www.olx.co.id:443 \"GET /api/relevance/v2/search?category=198&facet_limit=100&location=4000071&location_facet_limit=20&page=0&make=mobil-bekas-mazda&platform=web-desktop&size=1000&user=1853803f4e7x4b21bd2d&display_date=2022-09-01 HTTP/1.1\" 200 None\n",
      "2022-12-22 17:31:08 [urllib3.connectionpool] DEBUG: Starting new HTTPS connection (1): www.olx.co.id:443\n",
      "2022-12-22 17:31:09 [urllib3.connectionpool] DEBUG: https://www.olx.co.id:443 \"GET /api/relevance/v2/search?category=198&facet_limit=100&location=4000072&location_facet_limit=20&page=0&make=mobil-bekas-mazda&platform=web-desktop&size=1000&user=1853803f4e7x4b21bd2d&display_date=2022-09-01 HTTP/1.1\" 200 None\n",
      "2022-12-22 17:31:10 [urllib3.connectionpool] DEBUG: Starting new HTTPS connection (1): www.olx.co.id:443\n",
      "2022-12-22 17:31:10 [urllib3.connectionpool] DEBUG: https://www.olx.co.id:443 \"GET /api/relevance/v2/search?category=198&facet_limit=100&location=4000068&location_facet_limit=20&page=0&make=mobil-bekas-mazda&platform=web-desktop&size=1000&user=1853803f4e7x4b21bd2d&display_date=2022-09-01 HTTP/1.1\" 200 None\n",
      "2022-12-22 17:31:10 [urllib3.connectionpool] DEBUG: Starting new HTTPS connection (1): www.olx.co.id:443\n",
      "2022-12-22 17:31:11 [urllib3.connectionpool] DEBUG: https://www.olx.co.id:443 \"GET /api/relevance/v2/search?category=198&facet_limit=100&location=4000070&location_facet_limit=20&page=0&make=mobil-bekas-mazda&platform=web-desktop&size=1000&user=1853803f4e7x4b21bd2d&display_date=2022-09-01 HTTP/1.1\" 200 None\n",
      "2022-12-22 17:31:11 [urllib3.connectionpool] DEBUG: Starting new HTTPS connection (1): www.olx.co.id:443\n",
      "2022-12-22 17:31:12 [urllib3.connectionpool] DEBUG: https://www.olx.co.id:443 \"GET /api/relevance/v2/search?category=198&facet_limit=100&location=4000069&location_facet_limit=20&page=0&make=mobil-bekas-mazda&platform=web-desktop&size=1000&user=1853803f4e7x4b21bd2d&display_date=2022-09-01 HTTP/1.1\" 200 None\n",
      "2022-12-22 17:31:12 [urllib3.connectionpool] DEBUG: Starting new HTTPS connection (1): www.olx.co.id:443\n",
      "2022-12-22 17:31:12 [urllib3.connectionpool] DEBUG: https://www.olx.co.id:443 \"GET /api/relevance/v2/search?category=198&facet_limit=100&location=2000032&location_facet_limit=20&page=0&make=mobil-bekas-datsun&platform=web-desktop&size=1000&user=1853803f4e7x4b21bd2d&display_date=2022-09-01 HTTP/1.1\" 200 None\n",
      "2022-12-22 17:31:12 [urllib3.connectionpool] DEBUG: Starting new HTTPS connection (1): www.olx.co.id:443\n",
      "2022-12-22 17:31:13 [urllib3.connectionpool] DEBUG: https://www.olx.co.id:443 \"GET /api/relevance/v2/search?category=198&facet_limit=100&location=4000071&location_facet_limit=20&page=0&make=mobil-bekas-datsun&platform=web-desktop&size=1000&user=1853803f4e7x4b21bd2d&display_date=2022-09-01 HTTP/1.1\" 200 105803\n",
      "2022-12-22 17:31:13 [urllib3.connectionpool] DEBUG: Starting new HTTPS connection (1): www.olx.co.id:443\n",
      "2022-12-22 17:31:14 [urllib3.connectionpool] DEBUG: https://www.olx.co.id:443 \"GET /api/relevance/v2/search?category=198&facet_limit=100&location=4000072&location_facet_limit=20&page=0&make=mobil-bekas-datsun&platform=web-desktop&size=1000&user=1853803f4e7x4b21bd2d&display_date=2022-09-01 HTTP/1.1\" 200 None\n",
      "2022-12-22 17:31:14 [urllib3.connectionpool] DEBUG: Starting new HTTPS connection (1): www.olx.co.id:443\n",
      "2022-12-22 17:31:15 [urllib3.connectionpool] DEBUG: https://www.olx.co.id:443 \"GET /api/relevance/v2/search?category=198&facet_limit=100&location=4000068&location_facet_limit=20&page=0&make=mobil-bekas-datsun&platform=web-desktop&size=1000&user=1853803f4e7x4b21bd2d&display_date=2022-09-01 HTTP/1.1\" 200 None\n",
      "2022-12-22 17:31:15 [urllib3.connectionpool] DEBUG: Starting new HTTPS connection (1): www.olx.co.id:443\n",
      "2022-12-22 17:31:16 [urllib3.connectionpool] DEBUG: https://www.olx.co.id:443 \"GET /api/relevance/v2/search?category=198&facet_limit=100&location=4000070&location_facet_limit=20&page=0&make=mobil-bekas-datsun&platform=web-desktop&size=1000&user=1853803f4e7x4b21bd2d&display_date=2022-09-01 HTTP/1.1\" 200 None\n",
      "2022-12-22 17:31:16 [urllib3.connectionpool] DEBUG: Starting new HTTPS connection (1): www.olx.co.id:443\n",
      "2022-12-22 17:31:16 [urllib3.connectionpool] DEBUG: https://www.olx.co.id:443 \"GET /api/relevance/v2/search?category=198&facet_limit=100&location=4000069&location_facet_limit=20&page=0&make=mobil-bekas-datsun&platform=web-desktop&size=1000&user=1853803f4e7x4b21bd2d&display_date=2022-09-01 HTTP/1.1\" 200 97636\n",
      "2022-12-22 17:31:17 [urllib3.connectionpool] DEBUG: Starting new HTTPS connection (1): www.olx.co.id:443\n",
      "2022-12-22 17:31:17 [urllib3.connectionpool] DEBUG: https://www.olx.co.id:443 \"GET /api/relevance/v2/search?category=198&facet_limit=100&location=2000032&location_facet_limit=20&page=0&make=mobil-bekas-chevrolet&platform=web-desktop&size=1000&user=1853803f4e7x4b21bd2d&display_date=2022-09-01 HTTP/1.1\" 200 67403\n",
      "2022-12-22 17:31:17 [urllib3.connectionpool] DEBUG: Starting new HTTPS connection (1): www.olx.co.id:443\n",
      "2022-12-22 17:31:18 [urllib3.connectionpool] DEBUG: https://www.olx.co.id:443 \"GET /api/relevance/v2/search?category=198&facet_limit=100&location=4000071&location_facet_limit=20&page=0&make=mobil-bekas-chevrolet&platform=web-desktop&size=1000&user=1853803f4e7x4b21bd2d&display_date=2022-09-01 HTTP/1.1\" 200 99481\n",
      "2022-12-22 17:31:18 [urllib3.connectionpool] DEBUG: Starting new HTTPS connection (1): www.olx.co.id:443\n",
      "2022-12-22 17:31:18 [urllib3.connectionpool] DEBUG: https://www.olx.co.id:443 \"GET /api/relevance/v2/search?category=198&facet_limit=100&location=4000072&location_facet_limit=20&page=0&make=mobil-bekas-chevrolet&platform=web-desktop&size=1000&user=1853803f4e7x4b21bd2d&display_date=2022-09-01 HTTP/1.1\" 200 97979\n",
      "2022-12-22 17:31:19 [urllib3.connectionpool] DEBUG: Starting new HTTPS connection (1): www.olx.co.id:443\n",
      "2022-12-22 17:31:19 [urllib3.connectionpool] DEBUG: https://www.olx.co.id:443 \"GET /api/relevance/v2/search?category=198&facet_limit=100&location=4000068&location_facet_limit=20&page=0&make=mobil-bekas-chevrolet&platform=web-desktop&size=1000&user=1853803f4e7x4b21bd2d&display_date=2022-09-01 HTTP/1.1\" 200 84433\n",
      "2022-12-22 17:31:19 [urllib3.connectionpool] DEBUG: Starting new HTTPS connection (1): www.olx.co.id:443\n",
      "2022-12-22 17:31:20 [urllib3.connectionpool] DEBUG: https://www.olx.co.id:443 \"GET /api/relevance/v2/search?category=198&facet_limit=100&location=4000070&location_facet_limit=20&page=0&make=mobil-bekas-chevrolet&platform=web-desktop&size=1000&user=1853803f4e7x4b21bd2d&display_date=2022-09-01 HTTP/1.1\" 200 79653\n",
      "2022-12-22 17:31:20 [urllib3.connectionpool] DEBUG: Starting new HTTPS connection (1): www.olx.co.id:443\n",
      "2022-12-22 17:31:21 [urllib3.connectionpool] DEBUG: https://www.olx.co.id:443 \"GET /api/relevance/v2/search?category=198&facet_limit=100&location=4000069&location_facet_limit=20&page=0&make=mobil-bekas-chevrolet&platform=web-desktop&size=1000&user=1853803f4e7x4b21bd2d&display_date=2022-09-01 HTTP/1.1\" 200 94004\n",
      "2022-12-22 17:31:21 [urllib3.connectionpool] DEBUG: Starting new HTTPS connection (1): www.olx.co.id:443\n",
      "2022-12-22 17:31:27 [urllib3.connectionpool] DEBUG: https://www.olx.co.id:443 \"GET /api/relevance/v2/search?category=198&facet_limit=100&location=2000032&location_facet_limit=20&page=0&make=mobil-bekas-kia&platform=web-desktop&size=1000&user=1853803f4e7x4b21bd2d&display_date=2022-09-01 HTTP/1.1\" 200 56814\n",
      "2022-12-22 17:31:27 [urllib3.connectionpool] DEBUG: Starting new HTTPS connection (1): www.olx.co.id:443\n",
      "2022-12-22 17:31:27 [urllib3.connectionpool] DEBUG: https://www.olx.co.id:443 \"GET /api/relevance/v2/search?category=198&facet_limit=100&location=4000071&location_facet_limit=20&page=0&make=mobil-bekas-kia&platform=web-desktop&size=1000&user=1853803f4e7x4b21bd2d&display_date=2022-09-01 HTTP/1.1\" 200 89737\n",
      "2022-12-22 17:31:28 [urllib3.connectionpool] DEBUG: Starting new HTTPS connection (1): www.olx.co.id:443\n",
      "2022-12-22 17:31:28 [urllib3.connectionpool] DEBUG: https://www.olx.co.id:443 \"GET /api/relevance/v2/search?category=198&facet_limit=100&location=4000072&location_facet_limit=20&page=0&make=mobil-bekas-kia&platform=web-desktop&size=1000&user=1853803f4e7x4b21bd2d&display_date=2022-09-01 HTTP/1.1\" 200 None\n",
      "2022-12-22 17:31:28 [urllib3.connectionpool] DEBUG: Starting new HTTPS connection (1): www.olx.co.id:443\n",
      "2022-12-22 17:31:29 [urllib3.connectionpool] DEBUG: https://www.olx.co.id:443 \"GET /api/relevance/v2/search?category=198&facet_limit=100&location=4000068&location_facet_limit=20&page=0&make=mobil-bekas-kia&platform=web-desktop&size=1000&user=1853803f4e7x4b21bd2d&display_date=2022-09-01 HTTP/1.1\" 200 72640\n",
      "2022-12-22 17:31:29 [urllib3.connectionpool] DEBUG: Starting new HTTPS connection (1): www.olx.co.id:443\n",
      "2022-12-22 17:31:29 [urllib3.connectionpool] DEBUG: https://www.olx.co.id:443 \"GET /api/relevance/v2/search?category=198&facet_limit=100&location=4000070&location_facet_limit=20&page=0&make=mobil-bekas-kia&platform=web-desktop&size=1000&user=1853803f4e7x4b21bd2d&display_date=2022-09-01 HTTP/1.1\" 200 None\n",
      "2022-12-22 17:31:29 [urllib3.connectionpool] DEBUG: Starting new HTTPS connection (1): www.olx.co.id:443\n",
      "2022-12-22 17:31:30 [urllib3.connectionpool] DEBUG: https://www.olx.co.id:443 \"GET /api/relevance/v2/search?category=198&facet_limit=100&location=4000069&location_facet_limit=20&page=0&make=mobil-bekas-kia&platform=web-desktop&size=1000&user=1853803f4e7x4b21bd2d&display_date=2022-09-01 HTTP/1.1\" 200 84993\n",
      "2022-12-22 17:31:30 [urllib3.connectionpool] DEBUG: Starting new HTTPS connection (1): www.olx.co.id:443\n",
      "2022-12-22 17:31:31 [urllib3.connectionpool] DEBUG: https://www.olx.co.id:443 \"GET /api/relevance/v2/search?category=198&facet_limit=100&location=2000032&location_facet_limit=20&page=0&make=mobil-bekas-bmw&platform=web-desktop&size=1000&user=1853803f4e7x4b21bd2d&display_date=2022-09-01 HTTP/1.1\" 200 45759\n",
      "2022-12-22 17:31:31 [urllib3.connectionpool] DEBUG: Starting new HTTPS connection (1): www.olx.co.id:443\n",
      "2022-12-22 17:31:31 [urllib3.connectionpool] DEBUG: https://www.olx.co.id:443 \"GET /api/relevance/v2/search?category=198&facet_limit=100&location=4000071&location_facet_limit=20&page=0&make=mobil-bekas-bmw&platform=web-desktop&size=1000&user=1853803f4e7x4b21bd2d&display_date=2022-09-01 HTTP/1.1\" 200 57596\n",
      "2022-12-22 17:31:31 [urllib3.connectionpool] DEBUG: Starting new HTTPS connection (1): www.olx.co.id:443\n",
      "2022-12-22 17:31:32 [urllib3.connectionpool] DEBUG: https://www.olx.co.id:443 \"GET /api/relevance/v2/search?category=198&facet_limit=100&location=4000072&location_facet_limit=20&page=0&make=mobil-bekas-bmw&platform=web-desktop&size=1000&user=1853803f4e7x4b21bd2d&display_date=2022-09-01 HTTP/1.1\" 200 54050\n",
      "2022-12-22 17:31:32 [urllib3.connectionpool] DEBUG: Starting new HTTPS connection (1): www.olx.co.id:443\n",
      "2022-12-22 17:31:32 [urllib3.connectionpool] DEBUG: https://www.olx.co.id:443 \"GET /api/relevance/v2/search?category=198&facet_limit=100&location=4000068&location_facet_limit=20&page=0&make=mobil-bekas-bmw&platform=web-desktop&size=1000&user=1853803f4e7x4b21bd2d&display_date=2022-09-01 HTTP/1.1\" 200 50976\n",
      "2022-12-22 17:31:33 [urllib3.connectionpool] DEBUG: Starting new HTTPS connection (1): www.olx.co.id:443\n",
      "2022-12-22 17:31:33 [urllib3.connectionpool] DEBUG: https://www.olx.co.id:443 \"GET /api/relevance/v2/search?category=198&facet_limit=100&location=4000070&location_facet_limit=20&page=0&make=mobil-bekas-bmw&platform=web-desktop&size=1000&user=1853803f4e7x4b21bd2d&display_date=2022-09-01 HTTP/1.1\" 200 50904\n",
      "2022-12-22 17:31:33 [urllib3.connectionpool] DEBUG: Starting new HTTPS connection (1): www.olx.co.id:443\n",
      "2022-12-22 17:31:34 [urllib3.connectionpool] DEBUG: https://www.olx.co.id:443 \"GET /api/relevance/v2/search?category=198&facet_limit=100&location=4000069&location_facet_limit=20&page=0&make=mobil-bekas-bmw&platform=web-desktop&size=1000&user=1853803f4e7x4b21bd2d&display_date=2022-09-01 HTTP/1.1\" 200 59201\n",
      "2022-12-22 17:31:34 [urllib3.connectionpool] DEBUG: Starting new HTTPS connection (1): www.olx.co.id:443\n",
      "2022-12-22 17:31:35 [urllib3.connectionpool] DEBUG: https://www.olx.co.id:443 \"GET /api/relevance/v2/search?category=198&facet_limit=100&location=2000032&location_facet_limit=20&page=0&make=mobil-bekas-hyundai&platform=web-desktop&size=1000&user=1853803f4e7x4b21bd2d&display_date=2022-09-01 HTTP/1.1\" 200 46793\n",
      "2022-12-22 17:31:35 [urllib3.connectionpool] DEBUG: Starting new HTTPS connection (1): www.olx.co.id:443\n",
      "2022-12-22 17:31:36 [urllib3.connectionpool] DEBUG: https://www.olx.co.id:443 \"GET /api/relevance/v2/search?category=198&facet_limit=100&location=4000071&location_facet_limit=20&page=0&make=mobil-bekas-hyundai&platform=web-desktop&size=1000&user=1853803f4e7x4b21bd2d&display_date=2022-09-01 HTTP/1.1\" 200 None\n",
      "2022-12-22 17:31:36 [urllib3.connectionpool] DEBUG: Starting new HTTPS connection (1): www.olx.co.id:443\n",
      "2022-12-22 17:31:36 [urllib3.connectionpool] DEBUG: https://www.olx.co.id:443 \"GET /api/relevance/v2/search?category=198&facet_limit=100&location=4000072&location_facet_limit=20&page=0&make=mobil-bekas-hyundai&platform=web-desktop&size=1000&user=1853803f4e7x4b21bd2d&display_date=2022-09-01 HTTP/1.1\" 200 69867\n",
      "2022-12-22 17:31:36 [urllib3.connectionpool] DEBUG: Starting new HTTPS connection (1): www.olx.co.id:443\n",
      "2022-12-22 17:31:37 [urllib3.connectionpool] DEBUG: https://www.olx.co.id:443 \"GET /api/relevance/v2/search?category=198&facet_limit=100&location=4000068&location_facet_limit=20&page=0&make=mobil-bekas-hyundai&platform=web-desktop&size=1000&user=1853803f4e7x4b21bd2d&display_date=2022-09-01 HTTP/1.1\" 200 57465\n",
      "2022-12-22 17:31:37 [urllib3.connectionpool] DEBUG: Starting new HTTPS connection (1): www.olx.co.id:443\n",
      "2022-12-22 17:31:37 [urllib3.connectionpool] DEBUG: https://www.olx.co.id:443 \"GET /api/relevance/v2/search?category=198&facet_limit=100&location=4000070&location_facet_limit=20&page=0&make=mobil-bekas-hyundai&platform=web-desktop&size=1000&user=1853803f4e7x4b21bd2d&display_date=2022-09-01 HTTP/1.1\" 200 57970\n",
      "2022-12-22 17:31:37 [urllib3.connectionpool] DEBUG: Starting new HTTPS connection (1): www.olx.co.id:443\n",
      "2022-12-22 17:31:39 [urllib3.connectionpool] DEBUG: https://www.olx.co.id:443 \"GET /api/relevance/v2/search?category=198&facet_limit=100&location=4000069&location_facet_limit=20&page=0&make=mobil-bekas-hyundai&platform=web-desktop&size=1000&user=1853803f4e7x4b21bd2d&display_date=2022-09-01 HTTP/1.1\" 200 62516\n",
      "2022-12-22 17:31:39 [urllib3.connectionpool] DEBUG: Starting new HTTPS connection (1): www.olx.co.id:443\n",
      "2022-12-22 17:31:39 [urllib3.connectionpool] DEBUG: https://www.olx.co.id:443 \"GET /api/relevance/v2/search?category=198&facet_limit=100&location=2000032&location_facet_limit=20&page=0&make=mobil-bekas-ford&platform=web-desktop&size=1000&user=1853803f4e7x4b21bd2d&display_date=2022-09-01 HTTP/1.1\" 200 44578\n",
      "2022-12-22 17:31:39 [urllib3.connectionpool] DEBUG: Starting new HTTPS connection (1): www.olx.co.id:443\n",
      "2022-12-22 17:31:40 [urllib3.connectionpool] DEBUG: https://www.olx.co.id:443 \"GET /api/relevance/v2/search?category=198&facet_limit=100&location=4000071&location_facet_limit=20&page=0&make=mobil-bekas-ford&platform=web-desktop&size=1000&user=1853803f4e7x4b21bd2d&display_date=2022-09-01 HTTP/1.1\" 200 None\n",
      "2022-12-22 17:31:40 [urllib3.connectionpool] DEBUG: Starting new HTTPS connection (1): www.olx.co.id:443\n",
      "2022-12-22 17:31:41 [urllib3.connectionpool] DEBUG: https://www.olx.co.id:443 \"GET /api/relevance/v2/search?category=198&facet_limit=100&location=4000072&location_facet_limit=20&page=0&make=mobil-bekas-ford&platform=web-desktop&size=1000&user=1853803f4e7x4b21bd2d&display_date=2022-09-01 HTTP/1.1\" 200 67011\n",
      "2022-12-22 17:31:41 [urllib3.connectionpool] DEBUG: Starting new HTTPS connection (1): www.olx.co.id:443\n",
      "2022-12-22 17:31:41 [urllib3.connectionpool] DEBUG: https://www.olx.co.id:443 \"GET /api/relevance/v2/search?category=198&facet_limit=100&location=4000068&location_facet_limit=20&page=0&make=mobil-bekas-ford&platform=web-desktop&size=1000&user=1853803f4e7x4b21bd2d&display_date=2022-09-01 HTTP/1.1\" 200 54563\n",
      "2022-12-22 17:31:41 [urllib3.connectionpool] DEBUG: Starting new HTTPS connection (1): www.olx.co.id:443\n",
      "2022-12-22 17:31:42 [urllib3.connectionpool] DEBUG: https://www.olx.co.id:443 \"GET /api/relevance/v2/search?category=198&facet_limit=100&location=4000070&location_facet_limit=20&page=0&make=mobil-bekas-ford&platform=web-desktop&size=1000&user=1853803f4e7x4b21bd2d&display_date=2022-09-01 HTTP/1.1\" 200 51651\n",
      "2022-12-22 17:31:42 [urllib3.connectionpool] DEBUG: Starting new HTTPS connection (1): www.olx.co.id:443\n",
      "2022-12-22 17:31:42 [urllib3.connectionpool] DEBUG: https://www.olx.co.id:443 \"GET /api/relevance/v2/search?category=198&facet_limit=100&location=4000069&location_facet_limit=20&page=0&make=mobil-bekas-ford&platform=web-desktop&size=1000&user=1853803f4e7x4b21bd2d&display_date=2022-09-01 HTTP/1.1\" 200 65653\n",
      "2022-12-22 17:31:42 [urllib3.connectionpool] DEBUG: Starting new HTTPS connection (1): www.olx.co.id:443\n",
      "2022-12-22 17:31:43 [urllib3.connectionpool] DEBUG: https://www.olx.co.id:443 \"GET /api/relevance/v2/search?category=198&facet_limit=100&location=2000032&location_facet_limit=20&page=0&make=mobil-bekas-isuzu&platform=web-desktop&size=1000&user=1853803f4e7x4b21bd2d&display_date=2022-09-01 HTTP/1.1\" 200 27631\n",
      "2022-12-22 17:31:43 [urllib3.connectionpool] DEBUG: Starting new HTTPS connection (1): www.olx.co.id:443\n",
      "2022-12-22 17:31:43 [urllib3.connectionpool] DEBUG: https://www.olx.co.id:443 \"GET /api/relevance/v2/search?category=198&facet_limit=100&location=4000071&location_facet_limit=20&page=0&make=mobil-bekas-isuzu&platform=web-desktop&size=1000&user=1853803f4e7x4b21bd2d&display_date=2022-09-01 HTTP/1.1\" 200 51140\n",
      "2022-12-22 17:31:43 [urllib3.connectionpool] DEBUG: Starting new HTTPS connection (1): www.olx.co.id:443\n",
      "2022-12-22 17:31:44 [urllib3.connectionpool] DEBUG: https://www.olx.co.id:443 \"GET /api/relevance/v2/search?category=198&facet_limit=100&location=4000072&location_facet_limit=20&page=0&make=mobil-bekas-isuzu&platform=web-desktop&size=1000&user=1853803f4e7x4b21bd2d&display_date=2022-09-01 HTTP/1.1\" 200 51001\n",
      "2022-12-22 17:31:44 [urllib3.connectionpool] DEBUG: Starting new HTTPS connection (1): www.olx.co.id:443\n",
      "2022-12-22 17:31:44 [urllib3.connectionpool] DEBUG: https://www.olx.co.id:443 \"GET /api/relevance/v2/search?category=198&facet_limit=100&location=4000068&location_facet_limit=20&page=0&make=mobil-bekas-isuzu&platform=web-desktop&size=1000&user=1853803f4e7x4b21bd2d&display_date=2022-09-01 HTTP/1.1\" 200 31222\n",
      "2022-12-22 17:31:45 [urllib3.connectionpool] DEBUG: Starting new HTTPS connection (1): www.olx.co.id:443\n",
      "2022-12-22 17:31:45 [urllib3.connectionpool] DEBUG: https://www.olx.co.id:443 \"GET /api/relevance/v2/search?category=198&facet_limit=100&location=4000070&location_facet_limit=20&page=0&make=mobil-bekas-isuzu&platform=web-desktop&size=1000&user=1853803f4e7x4b21bd2d&display_date=2022-09-01 HTTP/1.1\" 200 30008\n",
      "2022-12-22 17:31:45 [urllib3.connectionpool] DEBUG: Starting new HTTPS connection (1): www.olx.co.id:443\n",
      "2022-12-22 17:31:46 [urllib3.connectionpool] DEBUG: https://www.olx.co.id:443 \"GET /api/relevance/v2/search?category=198&facet_limit=100&location=4000069&location_facet_limit=20&page=0&make=mobil-bekas-isuzu&platform=web-desktop&size=1000&user=1853803f4e7x4b21bd2d&display_date=2022-09-01 HTTP/1.1\" 200 48124\n"
     ]
    }
   ],
   "source": [
    "\n",
    "data_list=[]\n",
    "\n",
    "for m in merek:\n",
    "    for l in location:\n",
    "        payload['make']=m\n",
    "        payload['location']=l\n",
    "        r=requests.get(url,params=payload,headers=headers)\n",
    "        data_json=r.json()['data']\n",
    "\n",
    "\n",
    "        for data in data_json:\n",
    "            data_dict={\n",
    "                'location_resolved':data['locations_resolved']['SUBLOCALITY_LEVEL_1_name'],\n",
    "                'display_date':data['display_date'],\n",
    "                'title':data['title'],\n",
    "\n",
    "                'harga':data['price']['value']['raw']\n",
    "            }\n",
    "            params=data['parameters']\n",
    "            for i in params:\n",
    "                data_dict[i['key_name']]=i['value_name']\n",
    "            data_list.append(data_dict)\n",
    "\n",
    "# print(json.dumps(data_list,indent=2))\n",
    "# print(data_list)\n",
    "\n",
    "\n"
   ]
  },
  {
   "cell_type": "code",
   "execution_count": 257,
   "metadata": {},
   "outputs": [
    {
     "data": {
      "text/plain": [
       "(17922, 16)"
      ]
     },
     "execution_count": 257,
     "metadata": {},
     "output_type": "execute_result"
    }
   ],
   "source": [
    "df=pd.DataFrame(data_list)\n",
    "# print(len(data_list))\n",
    "df.shape"
   ]
  },
  {
   "cell_type": "code",
   "execution_count": 259,
   "metadata": {},
   "outputs": [
    {
     "data": {
      "text/plain": [
       "12947"
      ]
     },
     "execution_count": 259,
     "metadata": {},
     "output_type": "execute_result"
    }
   ],
   "source": [
    "df.duplicated().sum()"
   ]
  },
  {
   "cell_type": "code",
   "execution_count": 262,
   "metadata": {},
   "outputs": [
    {
     "data": {
      "text/plain": [
       "(4975, 16)"
      ]
     },
     "execution_count": 262,
     "metadata": {},
     "output_type": "execute_result"
    }
   ],
   "source": [
    "df.shape"
   ]
  },
  {
   "cell_type": "code",
   "execution_count": 261,
   "metadata": {},
   "outputs": [],
   "source": [
    "df.drop_duplicates(inplace=True)"
   ]
  },
  {
   "cell_type": "code",
   "execution_count": 260,
   "metadata": {},
   "outputs": [
    {
     "data": {
      "text/plain": [
       "array(['Ngaglik', 'Piyungan', 'Wates', 'Wonosari', 'Pleret', 'Depok',\n",
       "       'Tegalrejo', 'Gamping', 'Gondokusuman', 'Mlati', 'Sleman', 'Jetis',\n",
       "       'Bantul', 'Sewon', 'Berbah', 'Kotagede', 'Gondomanan',\n",
       "       'Mantrijeron', 'Umbulharjo', 'Banguntapan', 'Tempel', 'Kraton',\n",
       "       'Wirobrajan', 'Danurejan', 'Lendah', 'Nanggulan', 'Pengasih',\n",
       "       'Imogiri', 'Moyudan', 'Paliyan', 'Pakualaman', 'Sanden',\n",
       "       'Mergangsan', 'Kalasan', 'Godean', 'Ngampilan', 'Prambanan',\n",
       "       'Sedayu', 'Turi', 'Pandak', 'Ngemplak', 'Karangmojo', 'Temon',\n",
       "       'Bambang Lipuro', 'Girimulyo', 'Kalibawang', 'Pakem', 'Pajangan',\n",
       "       'Semin', 'Pundong', 'Kasihan', 'Ngawen', 'Seyegan', 'Salam',\n",
       "       'Gedong Tengen', 'Ngluwar', 'Muntilan', 'Kemalang', 'Sentolo',\n",
       "       'Kokap', 'Bagelen', 'Purwodadi', 'Srandakan', 'Purworejo',\n",
       "       'Magelang Selatan', 'Magelang Utara', 'Magelang Tengah',\n",
       "       'Klaten Utara', 'Kalikotes', 'Klaten Selatan', 'Klaten Tengah',\n",
       "       'Loano', 'Pakis', 'Bruno', 'Pituruh', 'Tempuran', 'Kutoarjo',\n",
       "       'Kemiri', 'Mertoyudan', 'Secang', 'Jatinom', 'Borobudur', 'Wedi',\n",
       "       'Kaliangkrik', 'Candimulyo', 'Manisrenggo', 'Butuh', 'Laweyan',\n",
       "       'Serengan', 'Kartasura', 'Jebres', 'Sukoharjo', 'Banjarsari',\n",
       "       'Colomadu', 'Pasar Kliwon', 'Grogol', 'Delanggu', 'Nguter', 'Baki',\n",
       "       'Bendosari', 'Karangdowo', 'Weru', 'Mojosongo', 'Pedan',\n",
       "       'Solo Baru', 'Cawas', 'Ceper', 'Banyudono', 'Patuk', 'Galur',\n",
       "       'Nglipar', 'Minggir', 'Playen', 'Rongkop', 'Panjatan', 'Mungkid',\n",
       "       'Kretek', 'Banyuurip', 'Bayat', 'Jogonalan', 'Kajoran',\n",
       "       'Karangnongko', 'Grabag', 'Bonorowo', 'Dlingo', 'Gatak',\n",
       "       'Polokarto', 'Juwiring', 'Trucuk', 'Teras', 'Giritontro',\n",
       "       'Ngadirojo', 'Gedang Sari', 'Tanjungsari', 'Ambarawa', 'Argomulyo',\n",
       "       'Sidomukti', 'Sidorejo', 'Temanggung', 'Boyolali', 'Tuntang',\n",
       "       'Bayan', 'Salaman', 'Tulung', 'Tingkir', 'Windusari', 'Cepogo',\n",
       "       'Jambu', 'Karanganom', 'Tengaran', 'Sambi', 'Bener', 'Susukan',\n",
       "       'Buluspesantren', 'Mojolaban', 'Wonogiri', 'Batuwarno',\n",
       "       'Baturetno', 'Pracimantoro', 'Panggang', 'Semanu', 'Suruh', 'Simo',\n",
       "       'Kaloran', 'Kranggan', 'Padureso', 'Jatipuro', 'Tirtomoyo',\n",
       "       'Selogiri', 'Cangkringan', 'Musuk', 'Banyubiru', 'Gantiwarno',\n",
       "       'Manyaran', 'Polanharjo', 'Dukun', 'Tawangsari', 'Sawit',\n",
       "       'Parakan', 'Selopampang', 'Karanggede', 'Giriwoyo'], dtype=object)"
      ]
     },
     "execution_count": 260,
     "metadata": {},
     "output_type": "execute_result"
    }
   ],
   "source": [
    "df.location_resolved.unique()"
   ]
  },
  {
   "cell_type": "code",
   "execution_count": 216,
   "metadata": {},
   "outputs": [
    {
     "data": {
      "text/plain": [
       "12    2035\n",
       "11     238\n",
       "10      25\n",
       "9       15\n",
       "8       11\n",
       "7        6\n",
       "6        6\n",
       "3        2\n",
       "5        1\n",
       "2        1\n",
       "Name: display_date, dtype: int64"
      ]
     },
     "execution_count": 216,
     "metadata": {},
     "output_type": "execute_result"
    }
   ],
   "source": [
    "pd.to_datetime(df.display_date).dt.month.value_counts()"
   ]
  },
  {
   "cell_type": "code",
   "execution_count": 210,
   "metadata": {},
   "outputs": [
    {
     "data": {
      "text/plain": [
       "0       2022-12-22\n",
       "1       2022-12-20\n",
       "2       2022-12-19\n",
       "3       2022-12-22\n",
       "4       2022-12-22\n",
       "           ...    \n",
       "2335    2022-11-28\n",
       "2336    2022-11-25\n",
       "2337    2022-11-25\n",
       "2338    2022-07-06\n",
       "2339    2021-03-09\n",
       "Name: display_date, Length: 2340, dtype: object"
      ]
     },
     "execution_count": 210,
     "metadata": {},
     "output_type": "execute_result"
    }
   ],
   "source": []
  },
  {
   "cell_type": "code",
   "execution_count": 263,
   "metadata": {},
   "outputs": [],
   "source": [
    "df.to_csv('data_olx.csv',mode='a',index=False)"
   ]
  }
 ],
 "metadata": {
  "kernelspec": {
   "display_name": "ENV",
   "language": "python",
   "name": "python3"
  },
  "language_info": {
   "codemirror_mode": {
    "name": "ipython",
    "version": 3
   },
   "file_extension": ".py",
   "mimetype": "text/x-python",
   "name": "python",
   "nbconvert_exporter": "python",
   "pygments_lexer": "ipython3",
   "version": "3.10.9"
  },
  "orig_nbformat": 4,
  "vscode": {
   "interpreter": {
    "hash": "2ea421491e5aaef523d30710971bce68e4a38fec4debfef5adbdc8f023e3129c"
   }
  }
 },
 "nbformat": 4,
 "nbformat_minor": 2
}
